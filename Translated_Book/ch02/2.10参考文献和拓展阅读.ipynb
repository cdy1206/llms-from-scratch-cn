{
 "cells": [
  {
   "cell_type": "markdown",
   "metadata": {},
   "source": [
    "# 2.10 参考文献和拓展阅读"
   ]
  },
  {
   "cell_type": "markdown",
   "metadata": {},
   "source": [
    "读者若对嵌入空间与潜在空间的讨论和比较，以及向量表示的一般概念感兴趣，可以在我的书《机器学习Q与AI》的第一章找到更多信息。"
   ]
  },
  {
   "cell_type": "markdown",
   "metadata": {},
   "source": [
    "* 《机器学习Q与AI》（2023年），作者塞巴斯蒂安·拉什卡,\n",
    "https://leanpub.com/machine-learning-q-and-ai"
   ]
  },
  {
   "cell_type": "markdown",
   "metadata": {},
   "source": [
    "以下论文提供了关于字节对编码作为一种标记化方法的更深入讨论："
   ]
  },
  {
   "cell_type": "markdown",
   "metadata": {},
   "source": [
    "* 《使用子词单元对稀有词进行神经机器翻译》（2015年），作者Sennrich等人，\n",
    "   https://arxiv.org/abs/1508.07909"
   ]
  },
  {
   "cell_type": "markdown",
   "metadata": {},
   "source": [
    "用于训练GPT-2的字节对编码标记器的代码已由OpenAI开源："
   ]
  },
  {
   "cell_type": "markdown",
   "metadata": {},
   "source": [
    "* https://github.com/openai/gpt-2/blob/master/src/encoder.py\n"
   ]
  },
  {
   "cell_type": "markdown",
   "metadata": {},
   "source": [
    "OpenAI提供了一个交互式网络界面来展示GPT模型中的字节对标记器是如何工作的：\n"
   ]
  },
  {
   "cell_type": "markdown",
   "metadata": {},
   "source": [
    "* https://platform.openai.com/tokenizer"
   ]
  },
  {
   "cell_type": "markdown",
   "metadata": {},
   "source": [
    "对研究一些其他流行大型语言模型所使用的替代标记化方案感兴趣的读者，可以在SentencePiece和WordPiece的论文中找到更多信息："
   ]
  },
  {
   "cell_type": "markdown",
   "metadata": {},
   "source": [
    "* 《SentencePiece：一种简单且与语言无关的神经文本处理用子词标记器与去标记器》（2018年），作者Kudo和Richardson, \n",
    "  https://aclanthology.org/D18-2012/\n",
    "* 《快速WordPiece标记化》（2020年），作者Song等人,\n",
    "https://arxiv.org/abs/2012.15524"
   ]
  }
 ],
 "metadata": {
  "language_info": {
   "name": "python"
  }
 },
 "nbformat": 4,
 "nbformat_minor": 2
}
